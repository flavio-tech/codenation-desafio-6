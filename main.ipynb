{
 "cells": [
  {
   "cell_type": "markdown",
   "metadata": {},
   "source": [
    "# Desafio 5\n",
    "\n",
    "Neste desafio, vamos praticar sobre redução de dimensionalidade com PCA e seleção de variáveis com RFE. Utilizaremos o _data set_ [Fifa 2019](https://www.kaggle.com/karangadiya/fifa19), contendo originalmente 89 variáveis de mais de 18 mil jogadores do _game_ FIFA 2019.\n",
    "\n",
    "> Obs.: Por favor, não modifique o nome das funções de resposta."
   ]
  },
  {
   "cell_type": "markdown",
   "metadata": {},
   "source": [
    "## _Setup_ geral"
   ]
  },
  {
   "cell_type": "code",
   "execution_count": 1,
   "metadata": {},
   "outputs": [
    {
     "name": "stderr",
     "output_type": "stream",
     "text": [
      "C:\\ProgramData\\Anaconda3\\lib\\site-packages\\statsmodels\\tools\\_testing.py:19: FutureWarning: pandas.util.testing is deprecated. Use the functions in the public API at pandas.testing instead.\n",
      "  import pandas.util.testing as tm\n"
     ]
    }
   ],
   "source": [
    "from math import sqrt\n",
    "\n",
    "import pandas as pd\n",
    "import matplotlib.pyplot as plt\n",
    "import numpy as np\n",
    "import scipy.stats as sct\n",
    "import seaborn as sns\n",
    "import statsmodels.api as sm\n",
    "import statsmodels.stats as st\n",
    "from sklearn.decomposition import PCA\n",
    "\n",
    "from loguru import logger"
   ]
  },
  {
   "cell_type": "code",
   "execution_count": 2,
   "metadata": {},
   "outputs": [],
   "source": [
    "# Algumas configurações para o matplotlib.\n",
    "#%matplotlib inline\n",
    "\n",
    "from IPython.core.pylabtools import figsize\n",
    "\n",
    "\n",
    "figsize(12, 8)\n",
    "\n",
    "sns.set()"
   ]
  },
  {
   "cell_type": "code",
   "execution_count": 3,
   "metadata": {
    "scrolled": false
   },
   "outputs": [],
   "source": [
    "fifa = pd.read_csv(\"fifa.csv\")"
   ]
  },
  {
   "cell_type": "code",
   "execution_count": 4,
   "metadata": {},
   "outputs": [],
   "source": [
    "columns_to_drop = [\"Unnamed: 0\", \"ID\", \"Name\", \"Photo\", \"Nationality\", \"Flag\",\n",
    "                   \"Club\", \"Club Logo\", \"Value\", \"Wage\", \"Special\", \"Preferred Foot\",\n",
    "                   \"International Reputation\", \"Weak Foot\", \"Skill Moves\", \"Work Rate\",\n",
    "                   \"Body Type\", \"Real Face\", \"Position\", \"Jersey Number\", \"Joined\",\n",
    "                   \"Loaned From\", \"Contract Valid Until\", \"Height\", \"Weight\", \"LS\",\n",
    "                   \"ST\", \"RS\", \"LW\", \"LF\", \"CF\", \"RF\", \"RW\", \"LAM\", \"CAM\", \"RAM\", \"LM\",\n",
    "                   \"LCM\", \"CM\", \"RCM\", \"RM\", \"LWB\", \"LDM\", \"CDM\", \"RDM\", \"RWB\", \"LB\", \"LCB\",\n",
    "                   \"CB\", \"RCB\", \"RB\", \"Release Clause\"\n",
    "]\n",
    "\n",
    "try:\n",
    "    fifa.drop(columns_to_drop, axis=1, inplace=True)\n",
    "except KeyError:\n",
    "    logger.warning(f\"Columns already dropped\")"
   ]
  },
  {
   "cell_type": "markdown",
   "metadata": {},
   "source": [
    "## Inicia sua análise a partir daqui"
   ]
  },
  {
   "cell_type": "code",
   "execution_count": 5,
   "metadata": {},
   "outputs": [
    {
     "data": {
      "text/plain": [
       "Index(['Age', 'Overall', 'Potential', 'Crossing', 'Finishing',\n",
       "       'HeadingAccuracy', 'ShortPassing', 'Volleys', 'Dribbling', 'Curve',\n",
       "       'FKAccuracy', 'LongPassing', 'BallControl', 'Acceleration',\n",
       "       'SprintSpeed', 'Agility', 'Reactions', 'Balance', 'ShotPower',\n",
       "       'Jumping', 'Stamina', 'Strength', 'LongShots', 'Aggression',\n",
       "       'Interceptions', 'Positioning', 'Vision', 'Penalties', 'Composure',\n",
       "       'Marking', 'StandingTackle', 'SlidingTackle', 'GKDiving', 'GKHandling',\n",
       "       'GKKicking', 'GKPositioning', 'GKReflexes'],\n",
       "      dtype='object')"
      ]
     },
     "execution_count": 5,
     "metadata": {},
     "output_type": "execute_result"
    }
   ],
   "source": [
    "# Sua análise começa aqui.\n",
    "\n",
    "# Inspecionando o dataset\n",
    "fifa.columns"
   ]
  },
  {
   "cell_type": "code",
   "execution_count": 6,
   "metadata": {},
   "outputs": [
    {
     "name": "stdout",
     "output_type": "stream",
     "text": [
      "Age                  int64\n",
      "Overall              int64\n",
      "Potential            int64\n",
      "Crossing           float64\n",
      "Finishing          float64\n",
      "HeadingAccuracy    float64\n",
      "ShortPassing       float64\n",
      "Volleys            float64\n",
      "Dribbling          float64\n",
      "Curve              float64\n",
      "FKAccuracy         float64\n",
      "LongPassing        float64\n",
      "BallControl        float64\n",
      "Acceleration       float64\n",
      "SprintSpeed        float64\n",
      "Agility            float64\n",
      "Reactions          float64\n",
      "Balance            float64\n",
      "ShotPower          float64\n",
      "Jumping            float64\n",
      "Stamina            float64\n",
      "Strength           float64\n",
      "LongShots          float64\n",
      "Aggression         float64\n",
      "Interceptions      float64\n",
      "Positioning        float64\n",
      "Vision             float64\n",
      "Penalties          float64\n",
      "Composure          float64\n",
      "Marking            float64\n",
      "StandingTackle     float64\n",
      "SlidingTackle      float64\n",
      "GKDiving           float64\n",
      "GKHandling         float64\n",
      "GKKicking          float64\n",
      "GKPositioning      float64\n",
      "GKReflexes         float64\n",
      "dtype: object\n"
     ]
    }
   ],
   "source": [
    "print(fifa.dtypes)"
   ]
  },
  {
   "cell_type": "markdown",
   "metadata": {},
   "source": [
    "Todos dados numéricos, excelente dataset :)"
   ]
  },
  {
   "cell_type": "code",
   "execution_count": 7,
   "metadata": {},
   "outputs": [
    {
     "data": {
      "text/plain": [
       "Age                 0\n",
       "Overall             0\n",
       "Potential           0\n",
       "Crossing           48\n",
       "Finishing          48\n",
       "HeadingAccuracy    48\n",
       "ShortPassing       48\n",
       "Volleys            48\n",
       "Dribbling          48\n",
       "Curve              48\n",
       "FKAccuracy         48\n",
       "LongPassing        48\n",
       "BallControl        48\n",
       "Acceleration       48\n",
       "SprintSpeed        48\n",
       "Agility            48\n",
       "Reactions          48\n",
       "Balance            48\n",
       "ShotPower          48\n",
       "Jumping            48\n",
       "Stamina            48\n",
       "Strength           48\n",
       "LongShots          48\n",
       "Aggression         48\n",
       "Interceptions      48\n",
       "Positioning        48\n",
       "Vision             48\n",
       "Penalties          48\n",
       "Composure          48\n",
       "Marking            48\n",
       "StandingTackle     48\n",
       "SlidingTackle      48\n",
       "GKDiving           48\n",
       "GKHandling         48\n",
       "GKKicking          48\n",
       "GKPositioning      48\n",
       "GKReflexes         48\n",
       "dtype: int64"
      ]
     },
     "execution_count": 7,
     "metadata": {},
     "output_type": "execute_result"
    }
   ],
   "source": [
    "# analisando colunas nulas, PCA não mastiga bem estas colunas\n",
    "\n",
    "fifa.isnull().sum()"
   ]
  },
  {
   "cell_type": "code",
   "execution_count": 8,
   "metadata": {},
   "outputs": [
    {
     "data": {
      "text/plain": [
       "Age                0.000000\n",
       "Overall            0.000000\n",
       "Potential          0.000000\n",
       "Crossing           0.002636\n",
       "Finishing          0.002636\n",
       "HeadingAccuracy    0.002636\n",
       "ShortPassing       0.002636\n",
       "Volleys            0.002636\n",
       "Dribbling          0.002636\n",
       "Curve              0.002636\n",
       "FKAccuracy         0.002636\n",
       "LongPassing        0.002636\n",
       "BallControl        0.002636\n",
       "Acceleration       0.002636\n",
       "SprintSpeed        0.002636\n",
       "Agility            0.002636\n",
       "Reactions          0.002636\n",
       "Balance            0.002636\n",
       "ShotPower          0.002636\n",
       "Jumping            0.002636\n",
       "Stamina            0.002636\n",
       "Strength           0.002636\n",
       "LongShots          0.002636\n",
       "Aggression         0.002636\n",
       "Interceptions      0.002636\n",
       "Positioning        0.002636\n",
       "Vision             0.002636\n",
       "Penalties          0.002636\n",
       "Composure          0.002636\n",
       "Marking            0.002636\n",
       "StandingTackle     0.002636\n",
       "SlidingTackle      0.002636\n",
       "GKDiving           0.002636\n",
       "GKHandling         0.002636\n",
       "GKKicking          0.002636\n",
       "GKPositioning      0.002636\n",
       "GKReflexes         0.002636\n",
       "dtype: float64"
      ]
     },
     "execution_count": 8,
     "metadata": {},
     "output_type": "execute_result"
    }
   ],
   "source": [
    "# calculando o percentual de dados nulos por coluna\n",
    "\n",
    "fifa.isnull().sum()/fifa.shape[0]"
   ]
  },
  {
   "cell_type": "markdown",
   "metadata": {},
   "source": [
    "0.2% de dados faltantes, ire dropar estas linhas"
   ]
  },
  {
   "cell_type": "code",
   "execution_count": 9,
   "metadata": {},
   "outputs": [],
   "source": [
    "# bye\n",
    "fifa.dropna(inplace=True)\n"
   ]
  },
  {
   "cell_type": "markdown",
   "metadata": {},
   "source": [
    "## Questão 1\n",
    "\n",
    "Qual fração da variância consegue ser explicada pelo primeiro componente principal de `fifa`? Responda como um único float (entre 0 e 1) arredondado para três casas decimais."
   ]
  },
  {
   "cell_type": "markdown",
   "metadata": {},
   "source": [
    "Receita de bolo de como usar o [scikit-learn](https://jakevdp.github.io/PythonDataScienceHandbook/05.02-introducing-scikit-learn.html)"
   ]
  },
  {
   "cell_type": "code",
   "execution_count": 10,
   "metadata": {},
   "outputs": [
    {
     "data": {
      "text/plain": [
       "array([[-126.71792515, -105.58000764],\n",
       "       [-123.36568604,  -88.98416141],\n",
       "       [-115.11013638,  -94.77505594],\n",
       "       ...,\n",
       "       [  49.83476757,  -44.19006161],\n",
       "       [  42.8077879 ,  -39.12437286],\n",
       "       [  37.17937197,   15.60717604]])"
      ]
     },
     "execution_count": 10,
     "metadata": {},
     "output_type": "execute_result"
    }
   ],
   "source": [
    "# reduzindo para dois componentes principais\n",
    "\n",
    "pca_2comp = PCA(n_components=2)\n",
    "\n",
    "# fit_transform para centralizar os dados de entrada\n",
    "pca_2comp.fit_transform(fifa)\n",
    "\n"
   ]
  },
  {
   "cell_type": "markdown",
   "metadata": {},
   "source": [
    "Vale a pena olhar a documentação para entender os atributos do [PCA](https://scikit-learn.org/stable/modules/generated/sklearn.decomposition.PCA.html?highlight=pca#sklearn.decomposition.PCA)"
   ]
  },
  {
   "cell_type": "code",
   "execution_count": 11,
   "metadata": {},
   "outputs": [
    {
     "name": "stdout",
     "output_type": "stream",
     "text": [
      "[[-6.16388751e-03 -3.70623864e-02 -2.27401748e-02 -2.13639023e-01\n",
      "  -1.98891213e-01 -1.70828950e-01 -1.80309140e-01 -1.87038764e-01\n",
      "  -2.33139606e-01 -2.07690956e-01 -1.84764187e-01 -1.67186902e-01\n",
      "  -2.12972623e-01 -1.38740617e-01 -1.34902279e-01 -1.38433521e-01\n",
      "  -4.91611013e-02 -1.16410947e-01 -1.95840156e-01 -4.07181861e-02\n",
      "  -1.72711671e-01 -2.33585866e-02 -2.16594765e-01 -1.53339724e-01\n",
      "  -1.50834334e-01 -2.24571087e-01 -1.29586783e-01 -1.62548283e-01\n",
      "  -1.01038031e-01 -1.53454113e-01 -1.59617493e-01 -1.47955869e-01\n",
      "   2.06147192e-01  1.96645602e-01  1.91129889e-01  1.97401130e-01\n",
      "   2.08994083e-01]\n",
      " [ 8.87203494e-03  1.58367355e-04 -7.78142440e-03 -4.43084573e-02\n",
      "  -2.57629630e-01  1.18911964e-01  1.21869793e-02 -1.91182282e-01\n",
      "  -1.18898465e-01 -1.27744634e-01 -1.00178915e-01  4.89136910e-02\n",
      "  -5.12678591e-02 -9.84027581e-02 -8.39018967e-02 -1.21564730e-01\n",
      "   9.67807471e-04 -9.04417070e-02 -1.04656794e-01  5.73651299e-02\n",
      "   6.82049478e-02  1.19388946e-01 -1.73409231e-01  2.13348825e-01\n",
      "   3.80693673e-01 -1.81116109e-01 -1.16093790e-01 -1.45955713e-01\n",
      "  -7.54603641e-03  3.49153365e-01  4.11672737e-01  4.10829628e-01\n",
      "  -5.41007769e-02 -5.23713548e-02 -5.14942445e-02 -5.14745248e-02\n",
      "  -5.52340572e-02]]\n",
      "[5549.97775019 1777.32265773]\n",
      "[0.56528056 0.18102522]\n"
     ]
    }
   ],
   "source": [
    "print(pca_2comp.components_)\n",
    "\n",
    "print(pca_2comp.explained_variance_)\n",
    "\n",
    "print(pca_2comp.explained_variance_ratio_)"
   ]
  },
  {
   "cell_type": "code",
   "execution_count": 12,
   "metadata": {},
   "outputs": [],
   "source": [
    "def q1():\n",
    "    # Retorne aqui o resultado da questão 1.\n",
    "    return float(round(pca_2comp.explained_variance_ratio_[0],3))"
   ]
  },
  {
   "cell_type": "markdown",
   "metadata": {},
   "source": [
    "## Questão 2\n",
    "\n",
    "Quantos componentes principais precisamos para explicar 95% da variância total? Responda como un único escalar inteiro."
   ]
  },
  {
   "cell_type": "code",
   "execution_count": 13,
   "metadata": {},
   "outputs": [
    {
     "name": "stdout",
     "output_type": "stream",
     "text": [
      "15\n",
      "[0.56528056 0.74630577 0.80583411 0.84926104 0.87561427 0.88768504\n",
      " 0.89804009 0.9065696  0.91444823 0.9216524  0.9288342  0.93516314\n",
      " 0.94035556 0.94526355 0.95000564]\n"
     ]
    }
   ],
   "source": [
    "# mantendo 95% da variancia\n",
    "pca_95 = PCA(0.95)\n",
    "pca_95.fit_transform(fifa)\n",
    "print(pca_95.n_components_)\n",
    "\n",
    "#confirma ?\n",
    "print(np.cumsum(pca_95.explained_variance_ratio_))"
   ]
  },
  {
   "cell_type": "code",
   "execution_count": 14,
   "metadata": {},
   "outputs": [],
   "source": [
    "def q2():\n",
    "    # Retorne aqui o resultado da questão 2.\n",
    "    return int(pca_95.n_components_)"
   ]
  },
  {
   "cell_type": "markdown",
   "metadata": {},
   "source": [
    "## Questão 3\n",
    "\n",
    "Qual são as coordenadas (primeiro e segundo componentes principais) do ponto `x` abaixo? O vetor abaixo já está centralizado. Cuidado para __não__ centralizar o vetor novamente (por exemplo, invocando `PCA.transform()` nele). Responda como uma tupla de float arredondados para três casas decimais."
   ]
  },
  {
   "cell_type": "code",
   "execution_count": 15,
   "metadata": {},
   "outputs": [
    {
     "data": {
      "text/plain": [
       "(186.556, -6.592)"
      ]
     },
     "execution_count": 15,
     "metadata": {},
     "output_type": "execute_result"
    }
   ],
   "source": [
    "x = [0.87747123,  -1.24990363,  -1.3191255, -36.7341814,\n",
    "     -35.55091139, -37.29814417, -28.68671182, -30.90902583,\n",
    "     -42.37100061, -32.17082438, -28.86315326, -22.71193348,\n",
    "     -38.36945867, -20.61407566, -22.72696734, -25.50360703,\n",
    "     2.16339005, -27.96657305, -33.46004736,  -5.08943224,\n",
    "     -30.21994603,   3.68803348, -36.10997302, -30.86899058,\n",
    "     -22.69827634, -37.95847789, -22.40090313, -30.54859849,\n",
    "     -26.64827358, -19.28162344, -34.69783578, -34.6614351,\n",
    "     48.38377664,  47.60840355,  45.76793876,  44.61110193,\n",
    "     49.28911284\n",
    "]\n",
    "\n",
    "# Basta decompor o vertor na direção das duas componentes principais calculadas anteriormente\n",
    "# z = Ureduce' * x  \n",
    "# para um componente é o produto interno dos vetores\n",
    "result = np.dot(pca_2comp.components_,x)\n",
    "\n",
    "# Aredondando e criando a tupla para resposta\n",
    "tuple([round(x,3) if isinstance(x, float) else x for x in result])\n",
    "\n"
   ]
  },
  {
   "cell_type": "code",
   "execution_count": 16,
   "metadata": {},
   "outputs": [],
   "source": [
    "def q3():\n",
    "    # Retorne aqui o resultado da questão 3.\n",
    "    return tuple([round(x,3) if isinstance(x, float) else x for x in result])"
   ]
  },
  {
   "cell_type": "markdown",
   "metadata": {},
   "source": [
    "## Questão 4\n",
    "\n",
    "Realiza RFE com estimador de regressão linear para selecionar cinco variáveis, eliminando uma a uma. Quais são as variáveis selecionadas? Responda como uma lista de nomes de variáveis."
   ]
  },
  {
   "cell_type": "markdown",
   "metadata": {},
   "source": [
    "Motivação para escolha do target ser 'Overall' está descrita neste [entendendo os atributos](http://comufifa.blogspot.com/2012/05/fifa-entendendo-os-atributos.html) do FIFA!\n",
    "\n",
    "Valeu pela dica galera da [comunidade Codenation](https://comunidade.codenation.dev/login) de Data Science - Abr/2020\n"
   ]
  },
  {
   "cell_type": "code",
   "execution_count": 17,
   "metadata": {},
   "outputs": [
    {
     "name": "stdout",
     "output_type": "stream",
     "text": [
      "[ True  True False False False False False False False False False  True\n",
      " False False False  True False False False False False False False False\n",
      " False False False False False False False False False False False  True]\n",
      "5\n",
      "[ 1  1 17 19  7  5 32 23 24 26 27  1 12  6 28  1 13 21 30  9  2 25 29 31\n",
      " 11 18 22  3 20 15 16  4  8 10 14  1]\n"
     ]
    }
   ],
   "source": [
    "from sklearn.linear_model import LinearRegression\n",
    "from sklearn.feature_selection import RFE\n",
    "\n",
    "# preparando a matriz de features\n",
    "X_feat = fifa.drop(columns='Overall')\n",
    "\n",
    "# estimador de regressão linear com cinco variáveis\n",
    "model = LinearRegression()\n",
    "rfe = RFE(model, 5)\n",
    "\n",
    "# Target é a coluna 'Overall'\n",
    "rfe = rfe.fit(X_feat, fifa['Overall'])\n",
    "\n",
    "print(rfe.support_)\n",
    "\n",
    "print(rfe.n_features_)\n",
    "\n",
    "print(rfe.ranking_)"
   ]
  },
  {
   "cell_type": "markdown",
   "metadata": {},
   "source": [
    "Usando o atributo support_ como máscara... e convertendo para lista como requerido."
   ]
  },
  {
   "cell_type": "code",
   "execution_count": 18,
   "metadata": {},
   "outputs": [
    {
     "data": {
      "text/plain": [
       "['Age', 'Potential', 'BallControl', 'Reactions', 'GKReflexes']"
      ]
     },
     "execution_count": 18,
     "metadata": {},
     "output_type": "execute_result"
    }
   ],
   "source": [
    "lista = X_feat.columns[rfe.support_].to_list()\n",
    "lista"
   ]
  },
  {
   "cell_type": "code",
   "execution_count": 19,
   "metadata": {},
   "outputs": [],
   "source": [
    "def q4():\n",
    "    # Retorne aqui o resultado da questão 4.\n",
    "    return X_feat.columns[rfe.support_].to_list()"
   ]
  },
  {
   "cell_type": "markdown",
   "metadata": {},
   "source": [
    "Esse desafio foi uma saga! \n",
    "mas divertido."
   ]
  },
  {
   "cell_type": "code",
   "execution_count": null,
   "metadata": {},
   "outputs": [],
   "source": []
  }
 ],
 "metadata": {
  "kernelspec": {
   "display_name": "Python 3",
   "language": "python",
   "name": "python3"
  },
  "language_info": {
   "codemirror_mode": {
    "name": "ipython",
    "version": 3
   },
   "file_extension": ".py",
   "mimetype": "text/x-python",
   "name": "python",
   "nbconvert_exporter": "python",
   "pygments_lexer": "ipython3",
   "version": "3.7.4"
  }
 },
 "nbformat": 4,
 "nbformat_minor": 2
}
